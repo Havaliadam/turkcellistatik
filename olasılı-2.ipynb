{
 "cells": [
  {
   "cell_type": "code",
   "execution_count": 2,
   "metadata": {},
   "outputs": [
    {
     "name": "stdout",
     "output_type": "stream",
     "text": [
      "atis sayisi: 2 ----- yaz olasılık : 50.00\n",
      "atis sayisi: 4 ----- yaz olasılık : 0.00\n",
      "atis sayisi: 8 ----- yaz olasılık : 62.50\n",
      "atis sayisi: 16 ----- yaz olasılık : 43.75\n",
      "atis sayisi: 32 ----- yaz olasılık : 46.88\n",
      "atis sayisi: 64 ----- yaz olasılık : 56.25\n",
      "atis sayisi: 128 ----- yaz olasılık : 50.78\n",
      "atis sayisi: 256 ----- yaz olasılık : 52.73\n",
      "atis sayisi: 512 ----- yaz olasılık : 52.93\n",
      "atis sayisi: 1024 ----- yaz olasılık : 50.20\n",
      "atis sayisi: 2048 ----- yaz olasılık : 48.58\n",
      "atis sayisi: 4096 ----- yaz olasılık : 49.49\n",
      "atis sayisi: 8192 ----- yaz olasılık : 49.58\n",
      "atis sayisi: 16384 ----- yaz olasılık : 49.96\n",
      "atis sayisi: 32768 ----- yaz olasılık : 50.00\n",
      "atis sayisi: 65536 ----- yaz olasılık : 49.68\n",
      "atis sayisi: 131072 ----- yaz olasılık : 49.97\n",
      "atis sayisi: 262144 ----- yaz olasılık : 50.13\n",
      "atis sayisi: 524288 ----- yaz olasılık : 50.01\n",
      "atis sayisi: 1048576 ----- yaz olasılık : 50.09\n"
     ]
    }
   ],
   "source": [
    "import numpy as np \n",
    "rng=np.random.RandomState(123)\n",
    "for i in np.arange(1,21):\n",
    "    deney_sayisi=2**i\n",
    "    yazi_turalar=rng.randint(0,2,size=deney_sayisi)\n",
    "    yazi_olasılık=np.mean(yazi_turalar)\n",
    "    print(\"atis sayisi:\",deney_sayisi,\"-----\",\"yaz olasılık : %.2f\"%(yazi_olasılık*100)\n",
    "          )\n"
   ]
  },
  {
   "cell_type": "code",
   "execution_count": null,
   "metadata": {},
   "outputs": [],
   "source": []
  }
 ],
 "metadata": {
  "kernelspec": {
   "display_name": "Python 3",
   "language": "python",
   "name": "python3"
  },
  "language_info": {
   "codemirror_mode": {
    "name": "ipython",
    "version": 3
   },
   "file_extension": ".py",
   "mimetype": "text/x-python",
   "name": "python",
   "nbconvert_exporter": "python",
   "pygments_lexer": "ipython3",
   "version": "3.12.1"
  }
 },
 "nbformat": 4,
 "nbformat_minor": 2
}
